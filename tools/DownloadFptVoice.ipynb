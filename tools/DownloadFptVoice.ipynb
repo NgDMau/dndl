{
 "cells": [
  {
   "cell_type": "code",
   "execution_count": 58,
   "metadata": {},
   "outputs": [],
   "source": [
    "import requests\n",
    "import urllib\n",
    "import random\n",
    "import json\n",
    "import urllib.request\n",
    "import time\n",
    "\n",
    "url = \"https://speech.openfpt.vn/speech\"\n"
   ]
  },
  {
   "cell_type": "code",
   "execution_count": 125,
   "metadata": {},
   "outputs": [],
   "source": [
    "def get_mp3_url_of(content, speed=0):\n",
    "    obj = {\n",
    "        \"voice-type\": \"new\",\n",
    "        \"text\": content,\n",
    "        \"gender\": random.choice([\"banmai\", \"leminh\", \"myan\", \"lannhi\"]),\n",
    "        \"speed\": speed\n",
    "    }\n",
    "    res = requests.post(url, data=obj)\n",
    "    if res.status_code == 200:\n",
    "        res = json.loads(res.text)\n",
    "        print(res[\"Url\"])\n",
    "        time.sleep(10)\n",
    "        return res[\"Url\"]\n",
    "    return \"notfound\"\n",
    "        #print('Downloaded {}'.format(res[\"Url\"]))\n",
    "        #urllib.request.urlretrieve(x[\"Url\"], \"audio_topic_999.mp3\")        "
   ]
  },
  {
   "cell_type": "code",
   "execution_count": 126,
   "metadata": {},
   "outputs": [],
   "source": [
    "def save_file(src_url, dest_path):\n",
    "    urllib.request.urlretrieve(src_url, dest_path)"
   ]
  },
  {
   "cell_type": "code",
   "execution_count": 127,
   "metadata": {},
   "outputs": [],
   "source": [
    "def save_mp3_from_content(content, dest_path):\n",
    "    url = get_mp3_url_of(content)\n",
    "    if url != \"notfound\":\n",
    "        save_file(url, dest_path)\n",
    "        print(\"Saved {} to {}\".format(url, dest_path))"
   ]
  },
  {
   "cell_type": "code",
   "execution_count": 128,
   "metadata": {},
   "outputs": [],
   "source": [
    "def get_mp3_from_txt_file(txt_file, dest_dir, topic, start_index_name):\n",
    "    with open(txt_file, encoding=\"utf8\") as file:\n",
    "        texts = file.readlines()\n",
    "    urls = []\n",
    "    data = {}\n",
    "    data[topic] = []\n",
    "    for text in texts:\n",
    "#         src_url = get_mp3_url_of(text)\n",
    "#         urls.append(src_url)\n",
    "        print(\"index: \",start_index_name)\n",
    "        saved_file_path = dest_dir + \"/audio_topic_\" + str(start_index_name) + \".mp3\"\n",
    "        print(\"text: \", text)\n",
    "        save_mp3_from_content(text, saved_file_path)\n",
    "        \n",
    "        id_ = start_index_name\n",
    "        data_json = make_json(id_, saved_file_path, topic)\n",
    "        data[topic].append(data_json)\n",
    "        \n",
    "        \n",
    "        start_index_name += 1\n",
    "    print(urls)\n",
    "    with open('data.txt', 'w') as outfile:\n",
    "        json.dump(data, outfile)\n",
    "    "
   ]
  },
  {
   "cell_type": "code",
   "execution_count": 129,
   "metadata": {},
   "outputs": [
    {
     "name": "stdout",
     "output_type": "stream",
     "text": [
      "index:  11\n",
      "text:  Thủ tướng bày tỏ mong muốn thiếp lập quan hệ ngoại giao giữa 2 nước\n",
      "\n",
      "https://static.openfpt.vn/text2speech-v5/long/2020-04-20/leminh.0.c53e52bcb2e38e52ca843e8dcf8db134.mp3\n",
      "Saved https://static.openfpt.vn/text2speech-v5/long/2020-04-20/leminh.0.c53e52bcb2e38e52ca843e8dcf8db134.mp3 to ./audio_topic_11.mp3\n",
      "index:  12\n",
      "text:  Đảng cộng hòa tỏ ra thiếu mặn mà với quyết định của chính phủ\n",
      "\n",
      "https://static.openfpt.vn/text2speech-v5/long/2020-04-20/myan.0.bbd429310ad5532a5ccf058815f0b6ef.mp3\n",
      "Saved https://static.openfpt.vn/text2speech-v5/long/2020-04-20/myan.0.bbd429310ad5532a5ccf058815f0b6ef.mp3 to ./audio_topic_12.mp3\n",
      "index:  13\n",
      "text:  Tình hình chính trị tại Trung đông đang trở nên bất ổn hơn bao giờ hết\n",
      "\n",
      "https://static.openfpt.vn/text2speech-v5/long/2020-04-20/banmai.0.5ce5b19c1869f91bf4180daeb7ebc4e1.mp3\n",
      "Saved https://static.openfpt.vn/text2speech-v5/long/2020-04-20/banmai.0.5ce5b19c1869f91bf4180daeb7ebc4e1.mp3 to ./audio_topic_13.mp3\n",
      "index:  14\n",
      "text:  phe khủng bố đã giành quyển kiểm soát hơn một nửa lãnh thổ\n",
      "\n",
      "https://static.openfpt.vn/text2speech-v5/long/2020-04-20/banmai.0.261ca475e4927586a7264713fb939fb9.mp3\n",
      "Saved https://static.openfpt.vn/text2speech-v5/long/2020-04-20/banmai.0.261ca475e4927586a7264713fb939fb9.mp3 to ./audio_topic_14.mp3\n",
      "index:  15\n",
      "text:  đảng bộ nhân dân thủ đô ra sức học tập và xây dựng vững chắc tổ quốc\n",
      "\n",
      "https://static.openfpt.vn/text2speech-v5/long/2020-04-20/banmai.0.c3d6b206d32320e1e9876cd34cadd1f3.mp3\n",
      "Saved https://static.openfpt.vn/text2speech-v5/long/2020-04-20/banmai.0.c3d6b206d32320e1e9876cd34cadd1f3.mp3 to ./audio_topic_15.mp3\n",
      "index:  16\n",
      "text:  căng thẳng giữa 2 nước hiện nay vẫn chưa chấm dứt\n",
      "\n",
      "https://static.openfpt.vn/text2speech-v5/long/2020-04-20/banmai.0.916da3d33ca06efb5ad06afff04cc846.mp3\n",
      "Saved https://static.openfpt.vn/text2speech-v5/long/2020-04-20/banmai.0.916da3d33ca06efb5ad06afff04cc846.mp3 to ./audio_topic_16.mp3\n",
      "index:  17\n",
      "text:  màn ra mắt dân chúng của vị tân tổng thống\n",
      "\n",
      "https://static.openfpt.vn/text2speech-v5/long/2020-04-20/banmai.0.6f8e2885f7b6afe290ca167f00104de1.mp3\n",
      "Saved https://static.openfpt.vn/text2speech-v5/long/2020-04-20/banmai.0.6f8e2885f7b6afe290ca167f00104de1.mp3 to ./audio_topic_17.mp3\n",
      "index:  18\n",
      "text:  quyền lực đều được phân chia đến mức thấp nhất\n",
      "\n",
      "https://static.openfpt.vn/text2speech-v5/long/2020-04-20/myan.0.4dbc795a772b8714b8602e4d18b3520e.mp3\n",
      "Saved https://static.openfpt.vn/text2speech-v5/long/2020-04-20/myan.0.4dbc795a772b8714b8602e4d18b3520e.mp3 to ./audio_topic_18.mp3\n",
      "index:  19\n",
      "text:  tình trạng lạm quyền hầu như không xảy ra tại quốc gia này\n",
      "https://static.openfpt.vn/text2speech-v5/long/2020-04-20/myan.0.5fb8ed4f8b2a53fc63fc683154cb4179.mp3\n",
      "Saved https://static.openfpt.vn/text2speech-v5/long/2020-04-20/myan.0.5fb8ed4f8b2a53fc63fc683154cb4179.mp3 to ./audio_topic_19.mp3\n",
      "[]\n"
     ]
    }
   ],
   "source": [
    "get_mp3_from_txt_file(\"sample.txt\", \".\", \"Chính trị\", 11)"
   ]
  },
  {
   "cell_type": "code",
   "execution_count": null,
   "metadata": {},
   "outputs": [],
   "source": []
  },
  {
   "cell_type": "code",
   "execution_count": 104,
   "metadata": {},
   "outputs": [],
   "source": [
    "def make_json(id_, src, topic): \n",
    "\n",
    "    json_element = {\n",
    "            'id': '',\n",
    "            \"question\": 'Chọn chủ đề thích hợp cho đoạn hội thoại dưới:',\n",
    "            \"src\": '',\n",
    "            \"answers\": [\n",
    "                { \"text\": 'Thể thao', \"correct\": False},\n",
    "                { \"text\": 'Sức khỏe', \"correct\": False},\n",
    "                { \"text\": 'Chính trị', \"correct\": False},\n",
    "                { \"text\": 'Xã hội', \"correct\": False},\n",
    "                { \"text\": 'Thuộc một chủ đề khác', \"correct\": False}\n",
    "              ]\n",
    "          }\n",
    "\n",
    "    json_element['id'] = str(id_)\n",
    "    json_element['src'] = str(src)\n",
    "\n",
    "    for answer in json_element[\"answers\"]:\n",
    "        if answer[\"text\"] == topic:\n",
    "            answer[\"correct\"] = True\n",
    "        else:\n",
    "            answer[\"correct\"] = False\n",
    "            \n",
    "    return json_element"
   ]
  },
  {
   "cell_type": "code",
   "execution_count": null,
   "metadata": {},
   "outputs": [],
   "source": []
  },
  {
   "cell_type": "code",
   "execution_count": null,
   "metadata": {},
   "outputs": [],
   "source": []
  }
 ],
 "metadata": {
  "kernelspec": {
   "display_name": "Python 3",
   "language": "python",
   "name": "python3"
  },
  "language_info": {
   "codemirror_mode": {
    "name": "ipython",
    "version": 3
   },
   "file_extension": ".py",
   "mimetype": "text/x-python",
   "name": "python",
   "nbconvert_exporter": "python",
   "pygments_lexer": "ipython3",
   "version": "3.7.3"
  }
 },
 "nbformat": 4,
 "nbformat_minor": 4
}
